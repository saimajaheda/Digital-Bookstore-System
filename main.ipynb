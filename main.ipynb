{
  "nbformat": 4,
  "nbformat_minor": 0,
  "metadata": {
    "colab": {
      "provenance": [],
      "authorship_tag": "ABX9TyNoiWq5ZX4kcvsQMWTpjD9n",
      "include_colab_link": true
    },
    "kernelspec": {
      "name": "python3",
      "display_name": "Python 3"
    },
    "language_info": {
      "name": "python"
    }
  },
  "cells": [
    {
      "cell_type": "markdown",
      "metadata": {
        "id": "view-in-github",
        "colab_type": "text"
      },
      "source": [
        "<a href=\"https://colab.research.google.com/github/saimajaheda/Digital-Bookstore-System/blob/main/main.ipynb\" target=\"_parent\"><img src=\"https://colab.research.google.com/assets/colab-badge.svg\" alt=\"Open In Colab\"/></a>"
      ]
    },
    {
      "cell_type": "code",
      "execution_count": 2,
      "metadata": {
        "colab": {
          "base_uri": "https://localhost:8080/"
        },
        "id": "0yYzX9jG8Hvw",
        "outputId": "f70fafa8-c484-4d65-b9d6-84fd513e585d"
      },
      "outputs": [
        {
          "output_type": "stream",
          "name": "stdout",
          "text": [
            "hi\n"
          ]
        }
      ],
      "source": [
        " print(\"hi\")"
      ]
    },
    {
      "cell_type": "code",
      "source": [
        " import json\n",
        "\n",
        "class Book:\n",
        "    def __init__(self, title, author, genre, price):\n",
        "        self.title = title\n",
        "        self.author = author\n",
        "        self.genre = genre\n",
        "        self.price = price\n"
      ],
      "metadata": {
        "id": "isDl_Qtx-K4F"
      },
      "execution_count": 3,
      "outputs": []
    }
  ]
}